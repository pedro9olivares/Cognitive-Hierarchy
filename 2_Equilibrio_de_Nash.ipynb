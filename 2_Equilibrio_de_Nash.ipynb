{
 "cells": [
  {
   "cell_type": "markdown",
   "metadata": {},
   "source": [
    "# Equilibrio de Nash en Juegos no cooperativos"
   ]
  },
  {
   "cell_type": "code",
   "execution_count": null,
   "metadata": {},
   "outputs": [],
   "source": [
    "!pip3 install gurobipy"
   ]
  },
  {
   "cell_type": "code",
   "execution_count": 1,
   "metadata": {},
   "outputs": [],
   "source": [
    "import numpy as np\n",
    "import time\n",
    "from gurobipy import *"
   ]
  },
  {
   "cell_type": "markdown",
   "metadata": {},
   "source": [
    "## Equilibrio de Nash"
   ]
  },
  {
   "cell_type": "markdown",
   "metadata": {},
   "source": [
    "En teoría de juegos, el equilibrio de Nash es el **concepto de solución** más utilizado para **juegos no cooperativos.**"
   ]
  },
  {
   "cell_type": "markdown",
   "metadata": {},
   "source": [
    "Un **concepto de solución** es una regla formal para predecir cómo se jugará un juego. Estas predicciones se denominan \"soluciones\", describen las estrategias que adoptarán los jugadores y, por lo tanto, el resultado del juego."
   ]
  },
  {
   "cell_type": "markdown",
   "metadata": {},
   "source": [
    "Un **equilibrio de Nash** es un concepto de solución en el que ningún jugador puede beneficiarse al cambiar su propia estrategia (manteniendo fijas las estrategias de los demás jugadores). "
   ]
  },
  {
   "cell_type": "markdown",
   "metadata": {},
   "source": [
    "**Ejemplo:**\n",
    "\n",
    "Si dos jugadores, Alice y Bob, eligen las estrategias A y B, (A, B) es un equilibrio de Nash si Alice no tiene ninguna otra estrategia disponible que le permita obtener un mejor resultado que A en respuesta a que Bob elija B, y Bob no tiene ninguna otra estrategia disponible que le permita obtener un mejor resultado que B en respuesta a que Alice elija A."
   ]
  },
  {
   "cell_type": "markdown",
   "metadata": {},
   "source": [
    "**Nash demostró que existe un equilibrio de Nash para cualquier juego finito.**"
   ]
  },
  {
   "cell_type": "markdown",
   "metadata": {},
   "source": [
    "En este notebook, veremos una implementación de un solver para encontrar equilibrios de Nash en juegos de dos jugadores de suma cero."
   ]
  },
  {
   "cell_type": "markdown",
   "metadata": {},
   "source": [
    "## Definición"
   ]
  },
  {
   "cell_type": "markdown",
   "metadata": {},
   "source": [
    "Sea $S_i$ el conjunto de todas las estrategias posibles para el jugador $i$, donde $i = 1, \\dots, N$. \n",
    "\n",
    "Sea $s^* = (s_i^*, s_{-i}^*)$ un perfil de estrategias, un conjunto que consiste en una estrategia para cada jugador, donde $s_{-i}^*$ denota las $N-1$ estrategias de todos los jugadores excepto $i$. \n",
    "\n",
    "Sea $u_i(s_i, s_{-i}^*)$ la ganancia del jugador $i$ como una función de las estrategias. \n",
    "\n",
    "El perfil de estrategias $s^*$ es un equilibrio de Nash si\n",
    "\n",
    "$$u_i(s_i^*, s_{-i}^*) \\geq u_i(s_i, s_{-i}^*) \\quad \\text{para todo } s_i \\in S_i.$$\n",
    "\n",
    "Un juego puede tener más de un equilibrio de Nash. El equilibrio es único y se llama un equilibrio de Nash estricto si la desigualdad es estricta, por lo que $s_i^*$ es la única mejor respuesta:\n",
    "\n",
    "$$u_i(s_i^*, s_{-i}^*) > u_i(s_i, s_{-i}^*) \\quad \\text{para todo } s_i \\in S_i, s_i \\neq s_i^*.$$\n"
   ]
  },
  {
   "cell_type": "markdown",
   "metadata": {},
   "source": [
    "## Definición para dos jugadores en suma cero"
   ]
  },
  {
   "cell_type": "markdown",
   "metadata": {},
   "source": [
    "Los juegos de suma cero tienen una propiedad especial que permite resolverlos: **el teorema minimax**"
   ]
  },
  {
   "cell_type": "markdown",
   "metadata": {},
   "source": [
    "$$ \\max_{x \\in X} \\min_{y \\in Y} f(x, y) = \\min_{y \\in Y} \\max_{x \\in X} f(x, y) $$\n"
   ]
  },
  {
   "cell_type": "markdown",
   "metadata": {},
   "source": [
    "A su vez, los equilibrios de Nash en juegos de suma cero con dos jugadores (2p0s) se pueden expresar un **problema de programación lineal (PPL).**\n",
    "\n",
    "Por ello, los equilibrios pueden calcularse en tiempo polinomial.\n"
   ]
  },
  {
   "cell_type": "markdown",
   "metadata": {},
   "source": [
    "Defina un juego\n",
    "$$\n",
    "G = (p_1, p_2, A_1 \\times A_2, (u_1, u_2)),\n",
    "$$ \n",
    "\n",
    "con $A_i$ el conjunto de acciones del jugador $i$ y $u_i$ la función de utilidad del jugador $i$."
   ]
  },
  {
   "cell_type": "markdown",
   "metadata": {},
   "source": [
    "Podemos entonces formular y resolver un PPL para obtener la utilidad esperada $U_1^*$  del jugador 1 y las probabilidades de acción $s_2^k$ del jugador 2 en el equilibrio de Nash."
   ]
  },
  {
   "cell_type": "markdown",
   "metadata": {},
   "source": [
    "El PPL es el siguiente:\n",
    "$$\n",
    "\\begin{aligned}\n",
    "    &\\text{minimizar} && U_1^* \\\\\n",
    "    &\\text{sujeto a} && \\sum_{k \\in A_2} u_1(a_1^j, a_2^k) \\cdot s_2^k \\leq U_1^*, \\quad \\forall j \\in A_1 \\\\\n",
    "    &&& \\sum_{k \\in A_2} s_2^k = 1  \\\\\n",
    "    &&& s_2^k \\geq 0, \\quad \\forall k \\in A_2 \n",
    "\\end{aligned}\n",
    "$$\n"
   ]
  },
  {
   "cell_type": "code",
   "execution_count": 3,
   "metadata": {},
   "outputs": [],
   "source": [
    "class NashEqulibriumSolver:\n",
    "\n",
    "    def __init__(self, game_step, p1_action_num, p2_action_num, payoff_matrix):\n",
    "        \n",
    "        \"\"\"\n",
    "        game_step: step number of the game; normal game step is 1, extensive game step is more than 1\n",
    "        p1_action_num: player 1's action number\n",
    "        p2_action_num: player 2's action number\n",
    "        payoff_matrix: the generated payoff matrix of the game\n",
    "        \"\"\"\n",
    "\n",
    "        self.game_step = game_step\n",
    "        self.action_choice_player1 = p1_action_num\n",
    "        self.action_choice_player2 = p2_action_num\n",
    "        self.action_total_num_player1 = self.action_choice_player1 ** game_step\n",
    "        self.action_total_num_player2 = self.action_choice_player2 ** game_step\n",
    "        self.payoff_matrix = payoff_matrix\n",
    "        \n",
    "        assert self.payoff_matrix.shape[0] == self.action_total_num_player1, \"Payoff matrix row number does not match Player 1 pure strategy number\"\n",
    "        assert self.payoff_matrix.shape[1] == self.action_total_num_player2, \"Payoff matrix column number does not match Player 2 pure strategy number\"\n",
    "    \n",
    "    def solve_linear_program_player1(self, verbose=False):\n",
    "\n",
    "        \"\"\"\n",
    "        Solve the NE profile strategy for player 1\n",
    "\n",
    "        verbose: output result details or not\n",
    "\n",
    "        Return (filtered_player1_NE, NE_utility), where filtered_player1_NE is player 1's strategy, \n",
    "                                                        and NE_utility is its NE profile utility\n",
    "        \"\"\"\n",
    "\n",
    "        start_time = time.time()\n",
    "\n",
    "        ## setup model\n",
    "        LP_model = Model()\n",
    "        LP_model.setParam('OutputFlag', 0)\n",
    "\n",
    "        ## define variables\n",
    "        game_value = LP_model.addVar(name='game_value', vtype=GRB.CONTINUOUS) # the NE profile utility, i.e., the value of the zero-sum two-player game\n",
    "        player1_actions = LP_model.addVars(self.action_total_num_player1, vtype=GRB.CONTINUOUS) # the probabilities for all actions of player 1\n",
    "\n",
    "        ## add constraints\n",
    "\n",
    "        # all player 1 actions' probability should be non-negative, and their sum is 1\n",
    "        LP_model.addConstr(player1_actions.sum() == 1)\n",
    "        LP_model.addConstrs(player1_actions[i] >= 0 for i in range(self.action_total_num_player1))\n",
    "       \n",
    "        # bound player 1's utility by game_value (for each player 1's pure strategy)\n",
    "        for player2_action_index in range(self.action_total_num_player2):\n",
    "            lhs = 0\n",
    "            for player1_action_index in range(self.action_total_num_player1):\n",
    "                # if the payoff matrix is huge (e.g., converted from extensive game), we can store it with bool utilities to save space\n",
    "                if type(self.payoff_matrix[player1_action_index, player2_action_index]) is np.bool_:\n",
    "                    p1_utility = 1 if self.payoff_matrix[player1_action_index, player2_action_index] else -1\n",
    "                # for simple normal form game, just store all payoff values\n",
    "                else:\n",
    "                    p1_utility = self.payoff_matrix[player1_action_index, player2_action_index]\n",
    "                lhs += p1_utility * player1_actions[player1_action_index]\n",
    "            LP_model.addConstr(lhs >= game_value)\n",
    "\n",
    "\n",
    "        ## setup objective func and solve\n",
    "        obj = game_value\n",
    "        LP_model.setObjective(obj, GRB.MAXIMIZE)\n",
    "\n",
    "        LP_model.optimize()\n",
    "\n",
    "        ## return solved outcomes\n",
    "        if LP_model.Status == GRB.Status.OPTIMAL:\n",
    "            player1_NE = LP_model.getAttr('x', player1_actions)\n",
    "            filtered_player1_NE = {k: v for k,v in player1_NE.items() if v > 0.}\n",
    "            NE_utility = LP_model.ObjVal\n",
    "            if verbose:\n",
    "                print(\"Player 1 strategy solving time: \", time.time() - start_time)\n",
    "                print(\"Nash Equlibrium Profile Utility for Player 1: \", NE_utility)\n",
    "                print(\"Nash Equlibrium Player 1 Strategy: \", filtered_player1_NE)\n",
    "                print(\"------------------------------------------\")\n",
    "            return (filtered_player1_NE, NE_utility)\n",
    "        else:\n",
    "            print(LP_model.Status, GRB.Status.OPTIMAL)\n",
    "            print(\"The linear programming for player 1 is infeasible, please double check.\")\n",
    "            return None\n",
    "    \n",
    "    def solve_linear_program_player2(self, verbose=False):\n",
    "\n",
    "        \"\"\"\n",
    "        Solve the NE profile strategy for player 2\n",
    "\n",
    "        verbose: output result details or not\n",
    "\n",
    "        Return (filtered_player2_NE, NE_utility), where filtered_player2_NE is player 2's strategy, \n",
    "                                                        and NE_utility is its NE profile utility\n",
    "        \"\"\"\n",
    "\n",
    "        start_time = time.time()\n",
    "\n",
    "        ## setup model\n",
    "        LP_model = Model()\n",
    "        LP_model.setParam('OutputFlag', 0)\n",
    "\n",
    "        ## define variables\n",
    "        game_value = LP_model.addVar(name='game_value', vtype=GRB.CONTINUOUS) # the NE profile utility, i.e., the value of the zero-sum two-player game\n",
    "        player2_actions = LP_model.addVars(self.action_total_num_player2, vtype=GRB.CONTINUOUS) # the probabilities for all actions of player 2\n",
    "\n",
    "        ## add constraints\n",
    "\n",
    "        # all player 2 actions' probability should be non-negative, and their sum is 1\n",
    "        LP_model.addConstr(player2_actions.sum() == 1)\n",
    "        LP_model.addConstrs(player2_actions[i] >= 0 for i in range(self.action_total_num_player2))\n",
    "       \n",
    "        # bound player 2's utility by game_value (for each player 1's pure strategy)\n",
    "        for player1_action_index in range(self.action_total_num_player1):\n",
    "            lhs = 0\n",
    "            for player2_action_index in range(self.action_total_num_player2):\n",
    "                # if the payoff matrix is huge (e.g., converted from extensive game), we can store it with bool utilities to save space\n",
    "                if type(self.payoff_matrix[player1_action_index, player2_action_index]) is np.bool_:\n",
    "                    p1_utility = 1 if self.payoff_matrix[player1_action_index, player2_action_index] else 1\n",
    "                # for simple normal form game, just store all payoff values\n",
    "                else:\n",
    "                    p1_utility = self.payoff_matrix[player1_action_index, player2_action_index]\n",
    "                lhs += p1_utility * player2_actions[player2_action_index]\n",
    "            LP_model.addConstr(lhs <= game_value)\n",
    "\n",
    "\n",
    "        ## setup objective func and solve\n",
    "        obj = game_value\n",
    "        LP_model.setObjective(obj, GRB.MINIMIZE)\n",
    "\n",
    "        LP_model.optimize()\n",
    "\n",
    "        ## return solved outcomes\n",
    "        if LP_model.Status == GRB.Status.OPTIMAL:\n",
    "            player2_NE = LP_model.getAttr('x', player2_actions)\n",
    "            filtered_player2_NE = {k: v for k,v in player2_NE.items() if v > 0.}\n",
    "            NE_utility = LP_model.ObjVal\n",
    "            if verbose:\n",
    "                print(\"Player 2 strategy solving time: \", time.time() - start_time)\n",
    "                print(\"Nash Equlibrium Profile Utility for Player 2: \", - NE_utility)\n",
    "                print(\"Nash Equlibrium Player 2 Strategy: \", filtered_player2_NE)\n",
    "                print(\"------------------------------------------\")\n",
    "            return (filtered_player2_NE, NE_utility)\n",
    "        else:\n",
    "            print(LP_model.Status, GRB.Status.OPTIMAL)\n",
    "            print(\"The linear programming for player 2 is infeasible, please double check.\")\n",
    "            return None"
   ]
  },
  {
   "cell_type": "code",
   "execution_count": 4,
   "metadata": {},
   "outputs": [],
   "source": [
    "# solve the game\n",
    "def solve(game_step, p1_action_choice, p2_action_choice, payoff_matrix, verbose=False):\n",
    "\n",
    "    # some basic setup\n",
    "    p1_action_num = len(p1_action_choice)\n",
    "    p2_action_num = len(p2_action_choice)\n",
    "\n",
    "    # solving\n",
    "    solver = NashEqulibriumSolver(game_step, p1_action_num, p2_action_num, payoff_matrix)\n",
    "    player1_sol = solver.solve_linear_program_player1(verbose=verbose)\n",
    "    player2_sol = solver.solve_linear_program_player2(verbose=verbose)\n",
    "\n",
    "    # results\n",
    "    print(\"-------------Player 2 strategy-------------\")\n",
    "    if player2_sol is not None:\n",
    "        player2_strategy = player2_sol[0]\n",
    "        for k, v in player2_strategy.items():\n",
    "            action = p2_action_choice[k]\n",
    "            print(action, v)\n",
    "    else:\n",
    "        print('')\n",
    "\n",
    "    print(\"-------------Player 1 strategy-------------\")\n",
    "    if player1_sol is not None:\n",
    "        player1_strategy = player1_sol[0]\n",
    "        for k, v in player1_strategy.items():\n",
    "            action = p1_action_choice[k]\n",
    "            print(action, v)\n",
    "    else:\n",
    "        print('')"
   ]
  },
  {
   "cell_type": "markdown",
   "metadata": {},
   "source": [
    "## Juego 1: piedra, papel o tijeras"
   ]
  },
  {
   "cell_type": "markdown",
   "metadata": {},
   "source": [
    "El juego de piedra, papel o tijeras tiene la siguiente matriz de payoff:\n",
    "$$\n",
    "\\begin{array}{c|c|c|c}\n",
    "\\text{p1 / p2} & \\text{Rock} & \\text{Paper} & \\text{Scissor} \\\\\n",
    "\\hline\n",
    "\\text{Rock}    & (0, 0)     & (-1, +1)    & (+1, -1) \\\\\n",
    "\\text{Paper}   & (+1, -1)   & (0, 0)      & (-1, +1) \\\\\n",
    "\\text{Scissor} & (-1, +1)   & (+1, -1)    & (0, 0) \\\\\n",
    "\\end{array}\n",
    "$$"
   ]
  },
  {
   "cell_type": "code",
   "execution_count": 5,
   "metadata": {},
   "outputs": [],
   "source": [
    "# Definimos los objetos del juego\n",
    "payoff_matrix = np.array([[0, -1, +1], \n",
    "                          [+1, 0, -1], \n",
    "                          [-1, +1, 0]])\n",
    "game_step = 1\n",
    "p1_actions = {0: \"Rock\", 1: \"Paper\", 2: \"Scissor\"}\n",
    "p2_actions = {0: \"Rock\", 1: \"Paper\", 2: \"Scissor\"}"
   ]
  },
  {
   "cell_type": "code",
   "execution_count": 6,
   "metadata": {},
   "outputs": [
    {
     "name": "stdout",
     "output_type": "stream",
     "text": [
      "Restricted license - for non-production use only - expires 2026-11-23\n",
      "-------------Player 2 strategy-------------\n",
      "Rock 0.3333333333333333\n",
      "Paper 0.33333333333333337\n",
      "Scissor 0.33333333333333337\n",
      "-------------Player 1 strategy-------------\n",
      "Rock 0.3333333333333333\n",
      "Paper 0.3333333333333333\n",
      "Scissor 0.3333333333333333\n"
     ]
    }
   ],
   "source": [
    "# Resolvemos el juego\n",
    "solve(game_step, p1_actions, p2_actions, payoff_matrix)"
   ]
  },
  {
   "cell_type": "markdown",
   "metadata": {},
   "source": [
    "## Juego 2: matching pennies"
   ]
  },
  {
   "cell_type": "markdown",
   "metadata": {},
   "source": [
    "Este juego tiene la siguiente matriz de payoff:\n",
    "$$\n",
    "\\begin{array}{c|c|c}\n",
    "\\text{p1 \\textbackslash p2} & \\text{Cara} & \\text{Cruz} \\\\\n",
    "\\hline\n",
    "\\text{Cara}  & (+1, -1) & (-1, +1) \\\\\n",
    "\\text{Cruz}  & (-1, +1) & (+1, -1) \\\\\n",
    "\\end{array}\n",
    "$$\n"
   ]
  },
  {
   "cell_type": "code",
   "execution_count": 7,
   "metadata": {},
   "outputs": [],
   "source": [
    "payoff_matrix = np.array([[+1, -1], [-1, +1]])\n",
    "game_step = 1\n",
    "p1_actions = {0: \"Cara\", 1: \"Cruz\"}\n",
    "p2_actions = {0: \"Cara\", 1: \"Cruz\"}"
   ]
  },
  {
   "cell_type": "code",
   "execution_count": 8,
   "metadata": {},
   "outputs": [
    {
     "name": "stdout",
     "output_type": "stream",
     "text": [
      "-------------Player 2 strategy-------------\n",
      "Cara 0.5\n",
      "Cruz 0.5\n",
      "-------------Player 1 strategy-------------\n",
      "Cara 0.5\n",
      "Cruz 0.5\n"
     ]
    }
   ],
   "source": [
    "# Resolvemos el juego\n",
    "solve(game_step, p1_actions, p2_actions, payoff_matrix)"
   ]
  },
  {
   "cell_type": "markdown",
   "metadata": {},
   "source": [
    "## Juego 3: elecciones presidenciales"
   ]
  },
  {
   "cell_type": "markdown",
   "metadata": {},
   "source": [
    "Este juego tiene la siguiente matriz de payoff:\n",
    "$$\n",
    "\\begin{array}{c|c|c}\n",
    "\\text{p1 \\textbackslash p2} & \\text{Morality} & \\text{Tax-Cuts} \\\\\n",
    "\\hline\n",
    "\\text{Economy} & (+3, -3) & (-1, +1) \\\\\n",
    "\\text{Society} & (-2, +2) & (+1, -1) \\\\\n",
    "\\end{array}\n",
    "$$"
   ]
  },
  {
   "cell_type": "code",
   "execution_count": 9,
   "metadata": {},
   "outputs": [],
   "source": [
    "payoff_matrix = np.array([[+3, -1], [-2, +1]])\n",
    "game_step = 1\n",
    "p1_actions = {0: \"Economy\", 1: \"Society\"}\n",
    "p2_actions = {0: \"Morality\", 1: \"Tax-Cuts\"}"
   ]
  },
  {
   "cell_type": "code",
   "execution_count": 10,
   "metadata": {},
   "outputs": [
    {
     "name": "stdout",
     "output_type": "stream",
     "text": [
      "-------------Player 2 strategy-------------\n",
      "Morality 0.2857142857142857\n",
      "Tax-Cuts 0.7142857142857143\n",
      "-------------Player 1 strategy-------------\n",
      "Economy 0.42857142857142855\n",
      "Society 0.5714285714285714\n"
     ]
    }
   ],
   "source": [
    "# Resolvemos el juego\n",
    "solve(game_step, p1_actions, p2_actions, payoff_matrix)"
   ]
  },
  {
   "cell_type": "markdown",
   "metadata": {},
   "source": [
    "## Aplicaciones"
   ]
  },
  {
   "cell_type": "markdown",
   "metadata": {},
   "source": [
    "En general, se utiliza el equilibrio de Nash para analizar el resultado de la interacción estratégica de varios tomadores de decisiones."
   ]
  },
  {
   "cell_type": "markdown",
   "metadata": {},
   "source": [
    "El concepto se ha utilizado para analizar situaciones hostiles como guerras y carreras armamentistas (*dilema del prisionero*), y también cómo el conflicto puede ser mitigado mediante interacciones repetidas (*ojo por ojo*). También se ha utilizado para estudiar hasta qué punto las personas con diferentes preferencias pueden cooperar (*batalla de los sexos*), si tomarán riesgos para lograr un resultado cooperativo (*caza de ciervos*), e incluso para penales en fútbol (*matching pennies*).\n",
    "\n"
   ]
  },
  {
   "cell_type": "markdown",
   "metadata": {},
   "source": [
    "## Variantes"
   ]
  },
  {
   "cell_type": "markdown",
   "metadata": {},
   "source": [
    "- **Equilibrio mixto:** No todos los jugadores siempre juegan la misma estrategia (existe una distribución de probabilidad sobre las diferentes estrategias).\n",
    "- **Equilibrio no estricto**\n",
    "- **Jerarquía cognitiva**"
   ]
  },
  {
   "cell_type": "markdown",
   "metadata": {},
   "source": [
    "## Referencias"
   ]
  },
  {
   "cell_type": "markdown",
   "metadata": {},
   "source": [
    "- https://en.wikipedia.org/wiki/Nash_equilibrium\n",
    "-  https://www.cis.upenn.edu/~aaroth/courses/slides/agt24/lect07.pdf\n",
    "- https://github.com/shuoyang2000/nash_equilibrium_solver"
   ]
  }
 ],
 "metadata": {
  "kernelspec": {
   "display_name": "Python 3",
   "language": "python",
   "name": "python3"
  },
  "language_info": {
   "codemirror_mode": {
    "name": "ipython",
    "version": 3
   },
   "file_extension": ".py",
   "mimetype": "text/x-python",
   "name": "python",
   "nbconvert_exporter": "python",
   "pygments_lexer": "ipython3",
   "version": "3.9.6"
  }
 },
 "nbformat": 4,
 "nbformat_minor": 2
}
