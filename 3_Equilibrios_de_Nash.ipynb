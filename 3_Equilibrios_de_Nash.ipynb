{
 "cells": [
  {
   "cell_type": "markdown",
   "metadata": {},
   "source": [
    "# Taller de equilibrios de Nash"
   ]
  },
  {
   "cell_type": "code",
   "execution_count": 8,
   "metadata": {},
   "outputs": [],
   "source": [
    "import numpy as np\n",
    "import time\n",
    "from gurobipy import *"
   ]
  },
  {
   "cell_type": "code",
   "execution_count": 9,
   "metadata": {},
   "outputs": [],
   "source": [
    "class NashEqulibriumSolver:\n",
    "\n",
    "    def __init__(self, game_step, p1_action_num, p2_action_num, payoff_matrix):\n",
    "        \n",
    "        \"\"\"\n",
    "        game_step: step number of the game; normal game step is 1, extensive game step is more than 1\n",
    "        p1_action_num: player 1's action number\n",
    "        p2_action_num: player 2's action number\n",
    "        payoff_matrix: the generated payoff matrix of the game\n",
    "        \"\"\"\n",
    "\n",
    "        self.game_step = game_step\n",
    "        self.action_choice_player1 = p1_action_num\n",
    "        self.action_choice_player2 = p2_action_num\n",
    "        self.action_total_num_player1 = self.action_choice_player1 ** game_step\n",
    "        self.action_total_num_player2 = self.action_choice_player2 ** game_step\n",
    "        self.payoff_matrix = payoff_matrix\n",
    "        \n",
    "        assert self.payoff_matrix.shape[0] == self.action_total_num_player1, \"Payoff matrix row number does not match Player 1 pure strategy number\"\n",
    "        assert self.payoff_matrix.shape[1] == self.action_total_num_player2, \"Payoff matrix column number does not match Player 2 pure strategy number\"\n",
    "    \n",
    "    def solve_linear_program_player1(self, verbose=False):\n",
    "\n",
    "        \"\"\"\n",
    "        Solve the NE profile strategy for player 1\n",
    "\n",
    "        verbose: output result details or not\n",
    "\n",
    "        Return (filtered_player1_NE, NE_utility), where filtered_player1_NE is player 1's strategy, \n",
    "                                                        and NE_utility is its NE profile utility\n",
    "        \"\"\"\n",
    "\n",
    "        start_time = time.time()\n",
    "\n",
    "        ## setup model\n",
    "        LP_model = Model()\n",
    "        LP_model.setParam('OutputFlag', 0)\n",
    "\n",
    "        ## define variables\n",
    "        game_value = LP_model.addVar(name='game_value', vtype=GRB.CONTINUOUS) # the NE profile utility, i.e., the value of the zero-sum two-player game\n",
    "        player1_actions = LP_model.addVars(self.action_total_num_player1, vtype=GRB.CONTINUOUS) # the probabilities for all actions of player 1\n",
    "\n",
    "        ## add constraints\n",
    "\n",
    "        # all player 1 actions' probability should be non-negative, and their sum is 1\n",
    "        LP_model.addConstr(player1_actions.sum() == 1)\n",
    "        LP_model.addConstrs(player1_actions[i] >= 0 for i in range(self.action_total_num_player1))\n",
    "       \n",
    "        # bound player 1's utility by game_value (for each player 1's pure strategy)\n",
    "        for player2_action_index in range(self.action_total_num_player2):\n",
    "            lhs = 0\n",
    "            for player1_action_index in range(self.action_total_num_player1):\n",
    "                # if the payoff matrix is huge (e.g., converted from extensive game), we can store it with bool utilities to save space\n",
    "                if type(self.payoff_matrix[player1_action_index, player2_action_index]) is np.bool_:\n",
    "                    p1_utility = 1 if self.payoff_matrix[player1_action_index, player2_action_index] else -1\n",
    "                # for simple normal form game, just store all payoff values\n",
    "                else:\n",
    "                    p1_utility = self.payoff_matrix[player1_action_index, player2_action_index]\n",
    "                lhs += p1_utility * player1_actions[player1_action_index]\n",
    "            LP_model.addConstr(lhs >= game_value)\n",
    "\n",
    "\n",
    "        ## setup objective func and solve\n",
    "        obj = game_value\n",
    "        LP_model.setObjective(obj, GRB.MAXIMIZE)\n",
    "\n",
    "        LP_model.optimize()\n",
    "\n",
    "        ## return solved outcomes\n",
    "        if LP_model.Status == GRB.Status.OPTIMAL:\n",
    "            player1_NE = LP_model.getAttr('x', player1_actions)\n",
    "            filtered_player1_NE = {k: v for k,v in player1_NE.items() if v > 0.}\n",
    "            NE_utility = LP_model.ObjVal\n",
    "            if verbose:\n",
    "                print(\"Player 1 strategy solving time: \", time.time() - start_time)\n",
    "                print(\"Nash Equlibrium Profile Utility for Player 1: \", NE_utility)\n",
    "                print(\"Nash Equlibrium Player 1 Strategy: \", filtered_player1_NE)\n",
    "                print(\"------------------------------------------\")\n",
    "            return (filtered_player1_NE, NE_utility)\n",
    "        else:\n",
    "            print(LP_model.Status, GRB.Status.OPTIMAL)\n",
    "            print(\"The linear programming for player 1 is infeasible, please double check.\")\n",
    "            return None\n",
    "    \n",
    "    def solve_linear_program_player2(self, verbose=False):\n",
    "\n",
    "        \"\"\"\n",
    "        Solve the NE profile strategy for player 2\n",
    "\n",
    "        verbose: output result details or not\n",
    "\n",
    "        Return (filtered_player2_NE, NE_utility), where filtered_player2_NE is player 2's strategy, \n",
    "                                                        and NE_utility is its NE profile utility\n",
    "        \"\"\"\n",
    "\n",
    "        start_time = time.time()\n",
    "\n",
    "        ## setup model\n",
    "        LP_model = Model()\n",
    "        LP_model.setParam('OutputFlag', 0)\n",
    "\n",
    "        ## define variables\n",
    "        game_value = LP_model.addVar(name='game_value', vtype=GRB.CONTINUOUS) # the NE profile utility, i.e., the value of the zero-sum two-player game\n",
    "        player2_actions = LP_model.addVars(self.action_total_num_player2, vtype=GRB.CONTINUOUS) # the probabilities for all actions of player 2\n",
    "\n",
    "        ## add constraints\n",
    "\n",
    "        # all player 2 actions' probability should be non-negative, and their sum is 1\n",
    "        LP_model.addConstr(player2_actions.sum() == 1)\n",
    "        LP_model.addConstrs(player2_actions[i] >= 0 for i in range(self.action_total_num_player2))\n",
    "       \n",
    "        # bound player 2's utility by game_value (for each player 1's pure strategy)\n",
    "        for player1_action_index in range(self.action_total_num_player1):\n",
    "            lhs = 0\n",
    "            for player2_action_index in range(self.action_total_num_player2):\n",
    "                # if the payoff matrix is huge (e.g., converted from extensive game), we can store it with bool utilities to save space\n",
    "                if type(self.payoff_matrix[player1_action_index, player2_action_index]) is np.bool_:\n",
    "                    p1_utility = 1 if self.payoff_matrix[player1_action_index, player2_action_index] else 1\n",
    "                # for simple normal form game, just store all payoff values\n",
    "                else:\n",
    "                    p1_utility = self.payoff_matrix[player1_action_index, player2_action_index]\n",
    "                lhs += p1_utility * player2_actions[player2_action_index]\n",
    "            LP_model.addConstr(lhs <= game_value)\n",
    "\n",
    "\n",
    "        ## setup objective func and solve\n",
    "        obj = game_value\n",
    "        LP_model.setObjective(obj, GRB.MINIMIZE)\n",
    "\n",
    "        LP_model.optimize()\n",
    "\n",
    "        ## return solved outcomes\n",
    "        if LP_model.Status == GRB.Status.OPTIMAL:\n",
    "            player2_NE = LP_model.getAttr('x', player2_actions)\n",
    "            filtered_player2_NE = {k: v for k,v in player2_NE.items() if v > 0.}\n",
    "            NE_utility = LP_model.ObjVal\n",
    "            if verbose:\n",
    "                print(\"Player 2 strategy solving time: \", time.time() - start_time)\n",
    "                print(\"Nash Equlibrium Profile Utility for Player 2: \", - NE_utility)\n",
    "                print(\"Nash Equlibrium Player 2 Strategy: \", filtered_player2_NE)\n",
    "                print(\"------------------------------------------\")\n",
    "            return (filtered_player2_NE, NE_utility)\n",
    "        else:\n",
    "            print(LP_model.Status, GRB.Status.OPTIMAL)\n",
    "            print(\"The linear programming for player 2 is infeasible, please double check.\")\n",
    "            return None"
   ]
  },
  {
   "cell_type": "code",
   "execution_count": 10,
   "metadata": {},
   "outputs": [],
   "source": [
    "# solve the game\n",
    "def solve(game_step, p1_action_choice, p2_action_choice, payoff_matrix, verbose=False):\n",
    "\n",
    "    # some basic setup\n",
    "    p1_action_num = len(p1_action_choice)\n",
    "    p2_action_num = len(p2_action_choice)\n",
    "\n",
    "    # solving\n",
    "    solver = NashEqulibriumSolver(game_step, p1_action_num, p2_action_num, payoff_matrix)\n",
    "    player1_sol = solver.solve_linear_program_player1(verbose=verbose)\n",
    "    player2_sol = solver.solve_linear_program_player2(verbose=verbose)\n",
    "\n",
    "    # results\n",
    "    print(\"-------------Player 2 strategy-------------\")\n",
    "    if player2_sol is not None:\n",
    "        player2_strategy = player2_sol[0]\n",
    "        for k, v in player2_strategy.items():\n",
    "            action = p2_action_choice[k]\n",
    "            print(action, v)\n",
    "    else:\n",
    "        print('')\n",
    "\n",
    "    print(\"-------------Player 1 strategy-------------\")\n",
    "    if player1_sol is not None:\n",
    "        player1_strategy = player1_sol[0]\n",
    "        for k, v in player1_strategy.items():\n",
    "            action = p1_action_choice[k]\n",
    "            print(action, v)\n",
    "    else:\n",
    "        print('')"
   ]
  },
  {
   "cell_type": "markdown",
   "metadata": {},
   "source": [
    "| Juego                     | Jugadores | Estrategias por jugador | Nº de equilibrios de Nash en estrategias puras | Secuencial | Información perfecta | Suma cero |\n",
    "|---------------------------|-----------|--------------------------|-----------------------------------------------|------------|----------------------|-----------|\n",
    "| Batalla de los sexos      | 2         | 2                        | 2                                             | No         | No                   | No        |\n",
    "| Adivina 2/3 del promedio  | N         | infinitas                | 1                                             | No         | No                   | No        |\n",
    "| Cara o cruz               | 2         | 2                        | 0                                             | No         | No                   | Sí        |\n",
    "| Dilema del prisionero     | 2         | 2                        | 1                                             | No         | No                   | No        |\n",
    "| Juegos de Blotto   | 2         | variable                      | variable                                        | No         | No                   | Sí        |\n",
    "| Cortando pastel    | N         | infinito                      | variable                                        | Sí         | Sí                   | Sí        |"
   ]
  },
  {
   "cell_type": "markdown",
   "metadata": {},
   "source": [
    "## Batalla de los sexos"
   ]
  },
  {
   "cell_type": "markdown",
   "metadata": {},
   "source": [
    "Imagina que un hombre y una mujer esperan encontrarse esta noche, pero tienen que elegir entre dos eventos a los que asistir: una pelea de boxeo y un ballet. El hombre preferiría ir a la pelea de boxeo. La mujer preferiría el ballet. Ambos prefieren ir al mismo evento en lugar de ir a eventos diferentes. Si no pueden comunicarse, ¿a dónde deberían ir?"
   ]
  },
  {
   "cell_type": "markdown",
   "metadata": {},
   "source": [
    "|                 | Pelea de Boxeo | Ballet |\n",
    "|-----------------|----------------|--------|\n",
    "| **Pelea de Boxeo** | 3, 2          | 1, 1   |\n",
    "| **Ballet**        | 0, 0          | 2, 3   |\n",
    "\n"
   ]
  },
  {
   "cell_type": "code",
   "execution_count": 11,
   "metadata": {},
   "outputs": [],
   "source": [
    "payoff_matrix = np.array([\n",
    "    [[3, 2], [1, 1]],  # Opciones si eligen \"Pelea de Boxeo\"\n",
    "    [[0, 0], [2, 3]]   # Opciones si eligen \"Ballet\"\n",
    "])\n",
    "\n",
    "game_step = 1\n",
    "p1_actions = {0: \"Box\", 1: \"Ballet\"}\n",
    "p2_actions = {0: \"Box\", 1: \"Ballet\"}"
   ]
  },
  {
   "cell_type": "code",
   "execution_count": null,
   "metadata": {},
   "outputs": [],
   "source": [
    "# Resolvemos el juego\n",
    "solve(game_step, p1_actions, p2_actions, payoff_matrix)"
   ]
  },
  {
   "cell_type": "markdown",
   "metadata": {},
   "source": [
    "## Adivina 2/3 del promedio"
   ]
  },
  {
   "cell_type": "markdown",
   "metadata": {},
   "source": [
    "Referencia: https://www.researchgate.net/publication/24091873_A_Cognitive_Hierarchy_Model_Games"
   ]
  },
  {
   "cell_type": "markdown",
   "metadata": {},
   "source": [
    "El juego \"Adivina 2/3 del promedio\" en teoría de juegos consiste en que los jugadores seleccionan simultáneamente un número real entre 0 y 100, inclusivamente. El ganador del juego es aquel (o aquellos) que eligen un número que esté más cercano a 2/3 del promedio de los números elegidos por todos los jugadores.\n",
    "\n",
    "Este juego ilustra cómo los jugadores intentan anticipar las elecciones de los demás para ganar. Si todos los jugadores pensaran racionalmente, el proceso llevaría a la eliminación iterativa de estrategias dominadas, lo que resulta en el número 0 como solución de equilibrio de Nash.\n",
    "\n",
    "Sin embargo, en la práctica, los resultados suelen reflejar diferentes niveles de razonamiento y suposiciones sobre el comportamiento de los demás."
   ]
  },
  {
   "cell_type": "markdown",
   "metadata": {},
   "source": [
    "<img src='./imgs/23.png'>"
   ]
  },
  {
   "cell_type": "markdown",
   "metadata": {},
   "source": [
    "## Monedas coincidentes"
   ]
  },
  {
   "cell_type": "markdown",
   "metadata": {},
   "source": [
    "El juego de las monedas coincidentes (Matching Pennies) es un juego no cooperativo. Se juega entre dos participantes, Par (Even) e Impar (Odd). Cada jugador tiene una moneda y debe, en secreto, girarla hacia cara o cruz. Luego, ambos jugadores revelan sus elecciones de manera simultánea.\n",
    "\n",
    "Si las monedas coinciden (ambas caras o ambas cruces), entonces Par gana y se queda con ambas monedas. Si las monedas no coinciden (una cara y la otra cruz), entonces Impar gana y se queda con ambas monedas."
   ]
  },
  {
   "cell_type": "code",
   "execution_count": 6,
   "metadata": {},
   "outputs": [],
   "source": [
    "payoff_matrix = np.array([[+1, -1], [-1, +1]])\n",
    "game_step = 1\n",
    "p1_actions = {0: \"Cara\", 1: \"Cruz\"}\n",
    "p2_actions = {0: \"Cara\", 1: \"Cruz\"}"
   ]
  },
  {
   "cell_type": "code",
   "execution_count": 7,
   "metadata": {},
   "outputs": [
    {
     "name": "stdout",
     "output_type": "stream",
     "text": [
      "-------------Player 2 strategy-------------\n",
      "Cara 0.5\n",
      "Cruz 0.5\n",
      "-------------Player 1 strategy-------------\n",
      "Cara 0.5\n",
      "Cruz 0.5\n"
     ]
    }
   ],
   "source": [
    "# Resolvemos el juego\n",
    "solve(game_step, p1_actions, p2_actions, payoff_matrix)"
   ]
  },
  {
   "cell_type": "markdown",
   "metadata": {},
   "source": [
    "Comentario sobre las estrategias: https://en.wikipedia.org/wiki/Matching_pennies"
   ]
  },
  {
   "cell_type": "markdown",
   "metadata": {},
   "source": [
    "## El dilema del prisionero"
   ]
  },
  {
   "cell_type": "markdown",
   "metadata": {},
   "source": [
    "Comentario sobre cooperación dada iteración: https://en.wikipedia.org/wiki/Prisoner%27s_dilemma"
   ]
  },
  {
   "cell_type": "markdown",
   "metadata": {},
   "source": [
    "## Juegos de Blotto"
   ]
  },
  {
   "cell_type": "markdown",
   "metadata": {},
   "source": [
    "Un juego del Coronel Blotto es un tipo de juego de suma constante para dos personas en el que los jugadores (oficiales) tienen la tarea de distribuir simultáneamente recursos limitados en varios objetos (campos de batalla). En la versión clásica del juego, el jugador que dedica más recursos a un campo de batalla gana ese campo, y la ganancia (o pago) es igual al número total de campos de batalla ganados."
   ]
  },
  {
   "cell_type": "markdown",
   "metadata": {},
   "source": [
    "Este juego se usa comúnmente como una metáfora para la competencia electoral, donde dos partidos políticos dedican dinero o recursos para atraer el apoyo de un número fijo de votantes. Cada votante es un \"campo de batalla\" que puede ser ganado por uno u otro partido. El mismo juego también tiene aplicación en la teoría de subastas, donde los postores deben hacer ofertas simultáneas."
   ]
  },
  {
   "cell_type": "markdown",
   "metadata": {},
   "source": [
    "## Cortando pastel"
   ]
  },
  {
   "cell_type": "markdown",
   "metadata": {},
   "source": [
    "\n",
    "Cortando pastel es un tipo de problema de división justa. \n",
    "\n",
    "El problema involucra un recurso heterogéneo, como un pastel con diferentes coberturas, que se asume divisible, es decir, es posible cortar piezas arbitrariamente pequeñas sin destruir su valor. \n",
    "\n",
    "El recurso debe ser dividido entre varios socios que tienen diferentes preferencias sobre las diferentes partes del pastel, es decir, algunas personas prefieren las coberturas de chocolate, otras prefieren las cerezas, algunas solo quieren la pieza más grande posible. La división debe ser unánimemente justa: cada persona debe recibir una pieza que se considere una parte justa."
   ]
  }
 ],
 "metadata": {
  "kernelspec": {
   "display_name": "Python 3",
   "language": "python",
   "name": "python3"
  },
  "language_info": {
   "codemirror_mode": {
    "name": "ipython",
    "version": 3
   },
   "file_extension": ".py",
   "mimetype": "text/x-python",
   "name": "python",
   "nbconvert_exporter": "python",
   "pygments_lexer": "ipython3",
   "version": "3.9.6"
  }
 },
 "nbformat": 4,
 "nbformat_minor": 2
}
