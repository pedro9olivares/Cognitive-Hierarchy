{
 "cells": [
  {
   "cell_type": "markdown",
   "metadata": {},
   "source": [
    "## Librerías de Teoría de Juegos: Gambit para juegos no cooperativos"
   ]
  },
  {
   "cell_type": "code",
   "execution_count": 13,
   "metadata": {},
   "outputs": [
    {
     "name": "stdout",
     "output_type": "stream",
     "text": [
      "Defaulting to user installation because normal site-packages is not writeable\n",
      "Requirement already satisfied: pygambit in /Users/pedrom2/Library/Python/3.9/lib/python/site-packages (16.2.0)\n",
      "Requirement already satisfied: deprecated in /Users/pedrom2/Library/Python/3.9/lib/python/site-packages (from pygambit) (1.2.16)\n",
      "Requirement already satisfied: numpy in /Users/pedrom2/Library/Python/3.9/lib/python/site-packages (from pygambit) (1.23.5)\n",
      "Requirement already satisfied: lxml in /Users/pedrom2/Library/Python/3.9/lib/python/site-packages (from pygambit) (5.3.0)\n",
      "Requirement already satisfied: scipy in /Users/pedrom2/Library/Python/3.9/lib/python/site-packages (from pygambit) (1.13.1)\n",
      "Requirement already satisfied: wrapt<2,>=1.10 in /Users/pedrom2/Library/Python/3.9/lib/python/site-packages (from deprecated->pygambit) (1.17.2)\n",
      "\u001b[33mWARNING: You are using pip version 21.2.4; however, version 24.3.1 is available.\n",
      "You should consider upgrading via the '/Library/Developer/CommandLineTools/usr/bin/python3 -m pip install --upgrade pip' command.\u001b[0m\n"
     ]
    }
   ],
   "source": [
    "!pip3 install pygambit"
   ]
  },
  {
   "cell_type": "markdown",
   "metadata": {},
   "source": [
    "### One-shot trust game"
   ]
  },
  {
   "cell_type": "code",
   "execution_count": 2,
   "metadata": {},
   "outputs": [],
   "source": [
    "import pygambit as gbt\n",
    "\n",
    "g = gbt.Game.new_tree(players=[\"Buyer\", \"Seller\"],\n",
    "                      title=\"One-shot trust game, after Kreps (1990)\")"
   ]
  },
  {
   "cell_type": "code",
   "execution_count": 15,
   "metadata": {},
   "outputs": [
    {
     "data": {
      "text/plain": [
       "Node(game=Game(title='One-shot trust game, after Kreps (1990)'), path=[])"
      ]
     },
     "execution_count": 15,
     "metadata": {},
     "output_type": "execute_result"
    }
   ],
   "source": [
    "g.root"
   ]
  },
  {
   "cell_type": "code",
   "execution_count": 16,
   "metadata": {},
   "outputs": [
    {
     "data": {
      "text/plain": [
       "NodeChildren(parent=Node(game=Game(title='One-shot trust game, after Kreps (1990)'), path=[]))"
      ]
     },
     "execution_count": 16,
     "metadata": {},
     "output_type": "execute_result"
    }
   ],
   "source": [
    "g.root.children"
   ]
  },
  {
   "cell_type": "code",
   "execution_count": 17,
   "metadata": {},
   "outputs": [],
   "source": [
    "g.append_move(g.root, \"Buyer\", [\"Trust\", \"Not trust\"])\n",
    "\n",
    "g.append_move(g.root.children[0], \"Seller\", [\"Honor\", \"Abuse\"])"
   ]
  },
  {
   "cell_type": "code",
   "execution_count": 18,
   "metadata": {},
   "outputs": [],
   "source": [
    "g.set_outcome(g.root.children[0].children[0], g.add_outcome([1, 1], label=\"Trustworthy\"))\n",
    "g.set_outcome(g.root.children[0].children[1], g.add_outcome([-1, 2], label=\"Untrustworthy\"))\n",
    "g.set_outcome(g.root.children[1], g.add_outcome([0, 0], label=\"Opt-out\"))"
   ]
  },
  {
   "cell_type": "code",
   "execution_count": 19,
   "metadata": {},
   "outputs": [
    {
     "data": {
      "text/plain": [
       "NashComputationResult(method='lcp', rational=True, use_strategic=False, equilibria=[[[[Rational(0, 1), Rational(1, 1)]], [[Rational(0, 1), Rational(1, 1)]]]], parameters={'stop_after': 0, 'max_depth': 0})"
      ]
     },
     "execution_count": 19,
     "metadata": {},
     "output_type": "execute_result"
    }
   ],
   "source": [
    "result = gbt.nash.lcp_solve(g)\n",
    "result"
   ]
  },
  {
   "cell_type": "code",
   "execution_count": 20,
   "metadata": {},
   "outputs": [],
   "source": [
    "eqm = result.equilibria[0]"
   ]
  },
  {
   "cell_type": "code",
   "execution_count": 21,
   "metadata": {},
   "outputs": [
    {
     "data": {
      "text/latex": [
       "$\\left[\\left[0,1\\right]\\right]$"
      ],
      "text/plain": [
       "[[Rational(0, 1), Rational(1, 1)]]"
      ]
     },
     "execution_count": 21,
     "metadata": {},
     "output_type": "execute_result"
    }
   ],
   "source": [
    "eqm['Buyer']"
   ]
  },
  {
   "cell_type": "code",
   "execution_count": 22,
   "metadata": {},
   "outputs": [
    {
     "data": {
      "text/latex": [
       "$\\left[\\left[0,1\\right]\\right]$"
      ],
      "text/plain": [
       "[[Rational(0, 1), Rational(1, 1)]]"
      ]
     },
     "execution_count": 22,
     "metadata": {},
     "output_type": "execute_result"
    }
   ],
   "source": [
    "eqm['Seller']"
   ]
  },
  {
   "cell_type": "markdown",
   "metadata": {},
   "source": [
    "### Póker de una carta (suma constante)"
   ]
  },
  {
   "cell_type": "markdown",
   "metadata": {},
   "source": [
    "Hay una baraja de cartas, con igual número de cartas de Rey y Reina. \n",
    "\n",
    "El juego comienza cuando cada jugador pone $1.\n",
    "\n",
    "Se reparte una carta al azar a Alice; Alice observa su carta pero Bob no. \n",
    "\n",
    "Después de que Alice observe su carta, puede elegir subir la apuesta o retirarse. Si decide retirarse, Bob gana el dinero y el juego termina.\n",
    "Si decide subir, añade otro $1. \n",
    "\n",
    "Después, Bob elige igualar o retirarse. \n",
    "\n",
    "Al final, Alice revela su carta. Si tiene un rey, gana; si tiene una reina, entonces Bob gana.\n"
   ]
  },
  {
   "cell_type": "code",
   "execution_count": 4,
   "metadata": {},
   "outputs": [],
   "source": [
    "g = gbt.Game.new_tree(players=[\"Alice\", \"Bob\"],\n",
    "                      title=\"One card poker game, after Myerson (1991)\")\n",
    "\n",
    "g.append_move(g.root, g.players.chance, [\"King\", \"Queen\"])\n",
    "\n",
    "for node in g.root.children:\n",
    "    g.append_move(node, \"Alice\", [\"Raise\", \"Fold\"])\n",
    "\n",
    "g.append_move(g.root.children[0].children[0], \"Bob\", [\"Meet\", \"Pass\"])\n",
    "\n",
    "g.append_infoset(g.root.children[1].children[0],\n",
    "                 g.root.children[0].children[0].infoset)\n",
    "\n",
    "alice_winsbig = g.add_outcome([2, -2], label=\"Alice wins big\")\n",
    "alice_wins = g.add_outcome([1, -1], label=\"Alice wins\")\n",
    "bob_winsbig = g.add_outcome([-2, 2], label=\"Bob wins big\")\n",
    "bob_wins = g.add_outcome([-1, 1], label=\"Bob wins\")\n",
    "\n",
    "g.set_outcome(g.root.children[0].children[0].children[0], alice_winsbig)\n",
    "g.set_outcome(g.root.children[0].children[0].children[1], alice_wins)\n",
    "g.set_outcome(g.root.children[0].children[1], bob_wins)\n",
    "g.set_outcome(g.root.children[1].children[0].children[0], bob_winsbig)\n",
    "g.set_outcome(g.root.children[1].children[0].children[1], alice_wins)\n",
    "g.set_outcome(g.root.children[1].children[1], bob_wins)"
   ]
  },
  {
   "cell_type": "markdown",
   "metadata": {},
   "source": [
    "Infoset: https://gambitproject.readthedocs.io/en/latest/api/pygambit.gambit.Infoset.html#pygambit.gambit.Infoset"
   ]
  },
  {
   "cell_type": "markdown",
   "metadata": {},
   "source": [
    "### Encontrando equilibrios de Nash"
   ]
  },
  {
   "cell_type": "markdown",
   "metadata": {},
   "source": [
    "<img src=\"./imgs/nash.png\">"
   ]
  },
  {
   "cell_type": "code",
   "execution_count": 5,
   "metadata": {},
   "outputs": [
    {
     "data": {
      "text/plain": [
       "NashComputationResult(method='lcp', rational=True, use_strategic=False, equilibria=[[[[Rational(1, 1), Rational(0, 1)], [Rational(1, 3), Rational(2, 3)]], [[Rational(2, 3), Rational(1, 3)]]]], parameters={'stop_after': 0, 'max_depth': 0})"
      ]
     },
     "execution_count": 5,
     "metadata": {},
     "output_type": "execute_result"
    }
   ],
   "source": [
    "result = gbt.nash.lcp_solve(g)\n",
    "result"
   ]
  },
  {
   "cell_type": "code",
   "execution_count": 6,
   "metadata": {},
   "outputs": [],
   "source": [
    "eqm = result.equilibria[0]"
   ]
  },
  {
   "cell_type": "code",
   "execution_count": 7,
   "metadata": {},
   "outputs": [
    {
     "data": {
      "text/latex": [
       "$\\left[\\left[1,0\\right],\\left[\\frac{1}{3},\\frac{2}{3}\\right]\\right]$"
      ],
      "text/plain": [
       "[[Rational(1, 1), Rational(0, 1)], [Rational(1, 3), Rational(2, 3)]]"
      ]
     },
     "execution_count": 7,
     "metadata": {},
     "output_type": "execute_result"
    }
   ],
   "source": [
    "eqm['Alice'] \n",
    "\n",
    "# Resultados:\n",
    "# --- Primer InfoSet ----\n",
    "# Si tiene Rey, siempre apuesta\n",
    "# --- Segundo InfoSet ----\n",
    "# Si no tiene Rey, bluffea un tercio de las veces"
   ]
  },
  {
   "cell_type": "code",
   "execution_count": 28,
   "metadata": {},
   "outputs": [
    {
     "data": {
      "text/latex": [
       "$\\left[\\left[\\frac{2}{3},\\frac{1}{3}\\right]\\right]$"
      ],
      "text/plain": [
       "[[Rational(2, 3), Rational(1, 3)]]"
      ]
     },
     "execution_count": 28,
     "metadata": {},
     "output_type": "execute_result"
    }
   ],
   "source": [
    "eqm['Bob']\n",
    "\n",
    "# Resultados:\n",
    "# Bob iguala dos tercios de las veces\n"
   ]
  },
  {
   "cell_type": "code",
   "execution_count": 8,
   "metadata": {},
   "outputs": [
    {
     "data": {
      "text/latex": [
       "$\\frac{2}{3}$"
      ],
      "text/plain": [
       "Rational(2, 3)"
      ]
     },
     "execution_count": 8,
     "metadata": {},
     "output_type": "execute_result"
    }
   ],
   "source": [
    "eqm['Bob']['Meet']"
   ]
  },
  {
   "cell_type": "markdown",
   "metadata": {},
   "source": [
    "Como se trata de un equilibrio, el hecho de que Bob aleatorice en su InfoSet debe significar que es indiferente entre las dos acciones.\n"
   ]
  },
  {
   "cell_type": "markdown",
   "metadata": {},
   "source": [
    "Veamos los payoffs:"
   ]
  },
  {
   "cell_type": "code",
   "execution_count": 31,
   "metadata": {},
   "outputs": [
    {
     "data": {
      "text/plain": [
       "{Action(infoset=Infoset(player=Player(game=Game(title='One card poker game, after Myerson (1991)'), label='Bob'), number=0), label='Meet'): Rational(-1, 1),\n",
       " Action(infoset=Infoset(player=Player(game=Game(title='One card poker game, after Myerson (1991)'), label='Bob'), number=0), label='Pass'): Rational(-1, 1)}"
      ]
     },
     "execution_count": 31,
     "metadata": {},
     "output_type": "execute_result"
    }
   ],
   "source": [
    "{action: eqm.action_value(action) for action in g.players[\"Bob\"].infosets[0].actions}"
   ]
  },
  {
   "cell_type": "markdown",
   "metadata": {},
   "source": [
    "### Resolución general"
   ]
  },
  {
   "cell_type": "markdown",
   "metadata": {},
   "source": [
    "**gnm_solve()** se puede aplicar a cualquier juego con cualquier número de jugadores y utiliza un proceso de seguimiento de trayectorias en aritmética de punto flotante, por lo que devuelve perfiles con probabilidades expresadas como números de punto flotante."
   ]
  },
  {
   "cell_type": "code",
   "execution_count": 32,
   "metadata": {},
   "outputs": [
    {
     "data": {
      "text/plain": [
       "NashComputationResult(method='gnm', rational=False, use_strategic=True, equilibria=[[[0.33333333333866677, 0.6666666666613335, 0.0, 0.0], [0.6666666666559997, 0.3333333333440004]]], parameters={'perturbation': [[1.0, 0.0, 0.0, 0.0], [1.0, 0.0]], 'end_lambda': -10.0, 'steps': 100, 'local_newton_interval': 3, 'local_newton_maxits': 10})"
      ]
     },
     "execution_count": 32,
     "metadata": {},
     "output_type": "execute_result"
    }
   ],
   "source": [
    "result = gbt.nash.gnm_solve(g)\n",
    "result"
   ]
  },
  {
   "cell_type": "markdown",
   "metadata": {},
   "source": [
    "Algunos métodos para calcular equilibrios de Nash operan utilizando aritmética de punto flotante y generan perfiles de equilibrio candidatos mediante aproximaciones sucesivas. \n",
    "\n",
    "Por lo tanto, los resultados de estos métodos son, en general, 𝜀-equilibrios, para algún ε positivo."
   ]
  }
 ],
 "metadata": {
  "kernelspec": {
   "display_name": "Python 3",
   "language": "python",
   "name": "python3"
  },
  "language_info": {
   "codemirror_mode": {
    "name": "ipython",
    "version": 3
   },
   "file_extension": ".py",
   "mimetype": "text/x-python",
   "name": "python",
   "nbconvert_exporter": "python",
   "pygments_lexer": "ipython3",
   "version": "3.9.6"
  }
 },
 "nbformat": 4,
 "nbformat_minor": 2
}
